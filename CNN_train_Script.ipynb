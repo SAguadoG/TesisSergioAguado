{
 "cells": [
  {
   "metadata": {},
   "cell_type": "markdown",
   "source": "## CNN Train Script",
   "id": "b9fa683acce4e34d"
  },
  {
   "metadata": {},
   "cell_type": "markdown",
   "source": "Este es el archivo donde se hará una prueba de clasificador automático mediante CNN (Convolutional Neural Network).",
   "id": "79203c842a7fc34a"
  },
  {
   "cell_type": "code",
   "id": "a7b233b096c81103",
   "metadata": {
    "collapsed": true,
    "ExecuteTime": {
     "end_time": "2024-12-09T22:35:50.879654Z",
     "start_time": "2024-12-09T22:35:48.442073Z"
    }
   },
   "source": [
    "import os\n",
    "import numpy as np\n",
    "import scipy.io\n",
    "import matplotlib.pyplot as plt\n",
    "from sklearn.model_selection import train_test_split\n",
    "from sklearn.preprocessing import StandardScaler\n",
    "import tensorflow as tf\n",
    "from tensorflow.keras.models import Sequential\n",
    "from tensorflow.keras.layers import Dense\n",
    "from tensorflow.keras.optimizers import Adam"
   ],
   "outputs": [],
   "execution_count": 1
  },
  {
   "metadata": {},
   "cell_type": "markdown",
   "source": [
    "Para puntualizar ahora mismo, se añadirán mas tipos en un futuro.\n",
    "1. original_signals → Etiqueta 0.\n",
    "2. flicker_signals → Etiqueta 1.\n",
    "3. harmonic_signals → Etiqueta 2.\n",
    "4. Interruption_signals → Etiqueta 3.\n",
    "5. original_signals → Etiqueta 4.\n",
    "6. Swell_signals → Etiqueta 5.\n",
    "7. transient_signals → Etiqueta 6."
   ],
   "id": "6d9872572e7fe718"
  },
  {
   "metadata": {},
   "cell_type": "code",
   "outputs": [
    {
     "ename": "FileNotFoundError",
     "evalue": "[Errno 2] No such file or directory: 'ruta_a_tus_datos'",
     "output_type": "error",
     "traceback": [
      "\u001B[0;31m---------------------------------------------------------------------------\u001B[0m",
      "\u001B[0;31mFileNotFoundError\u001B[0m                         Traceback (most recent call last)",
      "Cell \u001B[0;32mIn[1], line 40\u001B[0m\n\u001B[1;32m     37\u001B[0m features \u001B[38;5;241m=\u001B[39m []  \u001B[38;5;66;03m# Lista para almacenar características\u001B[39;00m\n\u001B[1;32m     38\u001B[0m targets \u001B[38;5;241m=\u001B[39m []   \u001B[38;5;66;03m# Lista para almacenar etiquetas\u001B[39;00m\n\u001B[0;32m---> 40\u001B[0m \u001B[38;5;28;01mfor\u001B[39;00m folder \u001B[38;5;129;01min\u001B[39;00m \u001B[43mos\u001B[49m\u001B[38;5;241;43m.\u001B[39;49m\u001B[43mlistdir\u001B[49m\u001B[43m(\u001B[49m\u001B[43mdata_path\u001B[49m\u001B[43m)\u001B[49m:\n\u001B[1;32m     41\u001B[0m     folder_path \u001B[38;5;241m=\u001B[39m os\u001B[38;5;241m.\u001B[39mpath\u001B[38;5;241m.\u001B[39mjoin(data_path, folder)\n\u001B[1;32m     42\u001B[0m     \u001B[38;5;28;01mif\u001B[39;00m os\u001B[38;5;241m.\u001B[39mpath\u001B[38;5;241m.\u001B[39misdir(folder_path):\n",
      "\u001B[0;31mFileNotFoundError\u001B[0m: [Errno 2] No such file or directory: 'ruta_a_tus_datos'"
     ]
    }
   ],
   "execution_count": 1,
   "source": [
    "# Funciones para cargar la señal y extraer características\n",
    "def load_signal(datos_path):\n",
    "    data = scipy.io.loadmat(datos_path)\n",
    "    signal = data['signal'][0]\n",
    "    fs = data['Fs'][0, 0]\n",
    "    return signal, fs\n",
    "\n",
    "def signal_feature_extraction(signal, fs):\n",
    "    max_theoretical_value = 230 * np.sqrt(2)\n",
    "    normalized_signal = signal / max_theoretical_value\n",
    "    mean_value = np.mean(normalized_signal)\n",
    "    unbias_data = normalized_signal - mean_value\n",
    "    unbias_data_2 = unbias_data ** 2\n",
    "    unbias_data_3 = unbias_data_2 * unbias_data\n",
    "    unbias_data_4 = unbias_data_3 * unbias_data\n",
    "    variance = np.var(unbias_data)\n",
    "    skewness = np.mean(unbias_data_3) / (variance ** 1.5)\n",
    "    kurtosis = np.mean(unbias_data_4) / (variance ** 2) - 3\n",
    "    thd = np.sqrt(np.sum(np.abs(np.fft.fft(normalized_signal)[2:4])) / np.abs(np.fft.fft(normalized_signal)[1]))\n",
    "    rms = np.sqrt(np.mean(normalized_signal ** 2))\n",
    "    crest_factor = np.max(normalized_signal) / rms\n",
    "    return variance, skewness, kurtosis, thd, crest_factor\n",
    "\n",
    "# Función para cargar datos desde carpetas\n",
    "def load_data(base_dir):\n",
    "    data = []\n",
    "    labels = []\n",
    "    classes = sorted(os.listdir(base_dir))  # Asegura el orden al asignar etiquetas\n",
    "    \n",
    "    for class_idx, class_name in enumerate(classes):\n",
    "        class_dir = os.path.join(base_dir, class_name)\n",
    "        \n",
    "        for split in ['train', 'test', 'val']:\n",
    "            split_dir = os.path.join(class_dir, split)\n",
    "            for file in os.listdir(split_dir):\n",
    "                file_path = os.path.join(split_dir, file)\n",
    "                # Cargar características desde archivo (suponiendo un formato numpy)\n",
    "                features = np.load(file_path)\n",
    "                data.append(features)\n",
    "                labels.append(class_idx)\n",
    "    \n",
    "    return np.array(data), np.array(labels)\n",
    "\n",
    "# Ruta de los datos\n",
    "base_dir = \"data\"\n",
    "\n",
    "# Cargar datos\n",
    "features, labels = load_data(base_dir)\n",
    "\n",
    "# Dividir en sets de entrenamiento, test y validación\n",
    "features_train, features_rest, labels_train, labels_rest = train_test_split(features, labels, test_size=0.3, random_state=42)\n",
    "features_val, features_test, labels_val, labels_test = train_test_split(features_rest, labels_rest, test_size=0.5, random_state=42)\n",
    "\n",
    "# Convertir etiquetas a one-hot encoding\n",
    "labels_train = to_categorical(labels_train, num_classes=7)\n",
    "labels_val = to_categorical(labels_val, num_classes=7)\n",
    "labels_test = to_categorical(labels_test, num_classes=7)\n",
    "\n",
    "# --------- SEPARACION, HAY QUE QUITARLO DESPUÉS ----------\n",
    "\n",
    "# Recorrer carpetas y obtener características\n",
    "data_path = 'ruta_a_tus_datos'  # Cambia esto por el path a tu carpeta 'data'\n",
    "labels = []  # Aquí asigna las etiquetas de las carpetas, por ejemplo, 0 para 'normal', 1 para 'fault'\n",
    "features = []  # Lista para almacenar características\n",
    "targets = []   # Lista para almacenar etiquetas\n",
    "\n",
    "for folder in os.listdir(data_path):\n",
    "    folder_path = os.path.join(data_path, folder)\n",
    "    if os.path.isdir(folder_path):\n",
    "        label = 0 if folder == 'normal' else 1  # Ajusta según tu organización\n",
    "        for file in os.listdir(folder_path):\n",
    "            if file.endswith('.mat'):\n",
    "                file_path = os.path.join(folder_path, file)\n",
    "                signal, fs = load_signal(file_path)\n",
    "                feature_vector = signal_feature_extraction(signal, fs)\n",
    "                features.append(feature_vector)\n",
    "                targets.append(label)\n",
    "\n",
    "# Convertir a numpy arrays\n",
    "features = np.array(features)\n",
    "targets = np.array(targets)\n",
    "# Normalización de características\n",
    "scaler = StandardScaler()\n",
    "features_normalized = scaler.fit_transform(features)\n",
    "\n",
    "# Dividir en conjunto de entrenamiento y prueba\n",
    "X_train, X_test, y_train, y_test = train_test_split(features_normalized, targets, test_size=0.3, random_state=42)"
   ],
   "id": "initial_id"
  },
  {
   "metadata": {},
   "cell_type": "code",
   "outputs": [],
   "execution_count": null,
   "source": [
    "# Definir el modelo\n",
    "model = Sequential([\n",
    "    Dense(64, activation='relu', input_shape=(features_train.shape[1],)),  # Entrada\n",
    "    Dense(32, activation='relu'),  # Capa oculta\n",
    "    Dense(7, activation='softmax')  # Capa de salida (7 clases)\n",
    "])\n",
    "\n",
    "# Compilar el modelo\n",
    "model.compile(optimizer=Adam(learning_rate=0.001),\n",
    "              loss='categorical_crossentropy',  # One-hot encoded labels\n",
    "              metrics=['accuracy'])\n",
    "\n",
    "# Entrenar el modelo\n",
    "history = model.fit(features_train, labels_train,\n",
    "                    validation_data=(features_val, labels_val),\n",
    "                    epochs=50,\n",
    "                    batch_size=32)\n",
    "\n",
    "# Evaluar el modelo\n",
    "loss, accuracy = model.evaluate(features_test, labels_test)\n",
    "print(f\"Test Accuracy: {accuracy:.2f}\")"
   ],
   "id": "d88dae4836c64e07"
  },
  {
   "metadata": {},
   "cell_type": "code",
   "outputs": [],
   "execution_count": null,
   "source": [
    "# Gráfico de pérdida\n",
    "plt.plot(history.history['loss'], label='Train Loss')\n",
    "plt.plot(history.history['val_loss'], label='Validation Loss')\n",
    "plt.xlabel('Epochs')\n",
    "plt.ylabel('Loss')\n",
    "plt.legend()\n",
    "plt.show()\n",
    "\n",
    "# Gráfico de precisión\n",
    "plt.plot(history.history['accuracy'], label='Train Accuracy')\n",
    "plt.plot(history.history['val_accuracy'], label='Validation Accuracy')\n",
    "plt.xlabel('Epochs')\n",
    "plt.ylabel('Accuracy')\n",
    "plt.legend()\n",
    "plt.show()"
   ],
   "id": "b866329d3d8b905c"
  }
 ],
 "metadata": {
  "kernelspec": {
   "display_name": "Python 3",
   "language": "python",
   "name": "python3"
  },
  "language_info": {
   "codemirror_mode": {
    "name": "ipython",
    "version": 2
   },
   "file_extension": ".py",
   "mimetype": "text/x-python",
   "name": "python",
   "nbconvert_exporter": "python",
   "pygments_lexer": "ipython2",
   "version": "2.7.6"
  }
 },
 "nbformat": 4,
 "nbformat_minor": 5
}
