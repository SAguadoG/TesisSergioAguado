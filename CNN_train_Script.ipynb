{
 "cells": [
  {
   "cell_type": "code",
   "execution_count": null,
   "id": "initial_id",
   "metadata": {
    "collapsed": true
   },
   "outputs": [],
   "source": [
    "# Importar librerías necesarias\n",
    "import os\n",
    "import numpy as np\n",
    "import scipy.io\n",
    "from sklearn.model_selection import train_test_split\n",
    "from sklearn.preprocessing import StandardScaler\n",
    "import tensorflow as tf\n",
    "from tensorflow.keras.models import Sequential\n",
    "from tensorflow.keras.layers import Dense\n",
    "\n",
    "# Funciones para cargar la señal y extraer características\n",
    "def load_signal(datos_path):\n",
    "    data = scipy.io.loadmat(datos_path)\n",
    "    signal = data['signal'][0]\n",
    "    fs = data['Fs'][0, 0]\n",
    "    return signal, fs\n",
    "\n",
    "def signal_feature_extraction(signal, fs):\n",
    "    max_theoretical_value = 230 * np.sqrt(2)\n",
    "    normalized_signal = signal / max_theoretical_value\n",
    "    mean_value = np.mean(normalized_signal)\n",
    "    unbias_data = normalized_signal - mean_value\n",
    "    unbias_data_2 = unbias_data ** 2\n",
    "    unbias_data_3 = unbias_data_2 * unbias_data\n",
    "    unbias_data_4 = unbias_data_3 * unbias_data\n",
    "    variance = np.var(unbias_data)\n",
    "    skewness = np.mean(unbias_data_3) / (variance ** 1.5)\n",
    "    kurtosis = np.mean(unbias_data_4) / (variance ** 2) - 3\n",
    "    thd = np.sqrt(np.sum(np.abs(np.fft.fft(normalized_signal)[2:4])) / np.abs(np.fft.fft(normalized_signal)[1]))\n",
    "    rms = np.sqrt(np.mean(normalized_signal ** 2))\n",
    "    crest_factor = np.max(normalized_signal) / rms\n",
    "    return variance, skewness, kurtosis, thd, crest_factor\n",
    "\n",
    "# Recorrer carpetas y obtener características\n",
    "data_path = 'ruta_a_tus_datos'  # Cambia esto por el path a tu carpeta 'data'\n",
    "labels = []  # Aquí asigna las etiquetas de las carpetas, por ejemplo, 0 para 'normal', 1 para 'fault'\n",
    "features = []  # Lista para almacenar características\n",
    "targets = []   # Lista para almacenar etiquetas\n",
    "\n",
    "for folder in os.listdir(data_path):\n",
    "    folder_path = os.path.join(data_path, folder)\n",
    "    if os.path.isdir(folder_path):\n",
    "        label = 0 if folder == 'normal' else 1  # Ajusta según tu organización\n",
    "        for file in os.listdir(folder_path):\n",
    "            if file.endswith('.mat'):\n",
    "                file_path = os.path.join(folder_path, file)\n",
    "                signal, fs = load_signal(file_path)\n",
    "                feature_vector = signal_feature_extraction(signal, fs)\n",
    "                features.append(feature_vector)\n",
    "                targets.append(label)\n",
    "\n",
    "# Convertir a numpy arrays\n",
    "features = np.array(features)\n",
    "targets = np.array(targets)"
   ]
  },
  {
   "metadata": {},
   "cell_type": "code",
   "outputs": [],
   "execution_count": null,
   "source": [
    "# Normalización de características\n",
    "scaler = StandardScaler()\n",
    "features_normalized = scaler.fit_transform(features)\n",
    "\n",
    "# Dividir en conjunto de entrenamiento y prueba\n",
    "X_train, X_test, y_train, y_test = train_test_split(features_normalized, targets, test_size=0.3, random_state=42)"
   ],
   "id": "60d808af0cb7477d"
  },
  {
   "metadata": {},
   "cell_type": "code",
   "outputs": [],
   "execution_count": null,
   "source": [
    "# Crear el modelo\n",
    "model = Sequential([\n",
    "    Dense(32, activation='relu', input_shape=(features_normalized.shape[1],)),  # Capa de entrada\n",
    "    Dense(16, activation='relu'),  # Capa oculta\n",
    "    Dense(1, activation='sigmoid')  # Capa de salida (problema binario)\n",
    "])\n",
    "\n",
    "# Compilar el modelo\n",
    "model.compile(optimizer='adam', loss='binary_crossentropy', metrics=['accuracy'])\n",
    "\n",
    "# Entrenar el modelo\n",
    "history = model.fit(X_train, y_train, epochs=50, batch_size=16, validation_split=0.2)\n",
    "\n",
    "# Evaluar el modelo\n",
    "loss, accuracy = model.evaluate(X_test, y_test)\n",
    "print(f'Loss: {loss}, Accuracy: {accuracy}')"
   ],
   "id": "d88dae4836c64e07"
  },
  {
   "metadata": {},
   "cell_type": "code",
   "outputs": [],
   "execution_count": null,
   "source": [
    "import matplotlib.pyplot as plt\n",
    "\n",
    "# Gráfico de pérdida\n",
    "plt.plot(history.history['loss'], label='Train Loss')\n",
    "plt.plot(history.history['val_loss'], label='Validation Loss')\n",
    "plt.xlabel('Epochs')\n",
    "plt.ylabel('Loss')\n",
    "plt.legend()\n",
    "plt.show()\n",
    "\n",
    "# Gráfico de precisión\n",
    "plt.plot(history.history['accuracy'], label='Train Accuracy')\n",
    "plt.plot(history.history['val_accuracy'], label='Validation Accuracy')\n",
    "plt.xlabel('Epochs')\n",
    "plt.ylabel('Accuracy')\n",
    "plt.legend()\n",
    "plt.show()"
   ],
   "id": "b866329d3d8b905c"
  }
 ],
 "metadata": {
  "kernelspec": {
   "display_name": "Python 3",
   "language": "python",
   "name": "python3"
  },
  "language_info": {
   "codemirror_mode": {
    "name": "ipython",
    "version": 2
   },
   "file_extension": ".py",
   "mimetype": "text/x-python",
   "name": "python",
   "nbconvert_exporter": "python",
   "pygments_lexer": "ipython2",
   "version": "2.7.6"
  }
 },
 "nbformat": 4,
 "nbformat_minor": 5
}
